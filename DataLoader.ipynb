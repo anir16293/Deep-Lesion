{
 "cells": [
  {
   "cell_type": "code",
   "execution_count": null,
   "metadata": {},
   "outputs": [],
   "source": [
    "import torchvision.models as models\n",
    "\n",
    "import os\n",
    "\n",
    "import torch\n",
    "import torchvision\n",
    "from torch import nn\n",
    "from torch.autograd import Variable\n",
    "from torch.utils.data import DataLoader\n",
    "from torchvision import transforms\n",
    "from torchvision.datasets import FashionMNIST\n",
    "import matplotlib.pyplot as plt\n",
    "import numpy as np\n",
    "import torch.nn.functional as F\n",
    "import pandas as pd\n",
    "import torch.utils.data.dataset as dataset\n",
    "import cv2\n",
    "import re\n",
    "import matplotlib.patches as patches"
   ]
  },
  {
   "cell_type": "code",
   "execution_count": null,
   "metadata": {},
   "outputs": [],
   "source": [
    "##### For all paths\n",
    "csv_path = \"./DL_info.csv\"\n",
    "Image_slices_dir = \"/home/parv/Dropbox/Final_Images_2/\""
   ]
  },
  {
   "cell_type": "code",
   "execution_count": null,
   "metadata": {},
   "outputs": [],
   "source": [
    "#### Optional, remove it later, put the same into dataset class\n",
    "df = pd.read_csv(csv_path)          # The DL_info.csv file path\n",
    "# print(df)\n",
    "train_df = df[df['Train_Val_Test']==1]\n",
    "validation_df = df[df['Train_Val_Test']==2]\n",
    "test_df = df[df['Train_Val_Test']==3]\n",
    "\n",
    "print(len(train_df.index))\n",
    "print(len(validation_df.index))\n",
    "print(len(test_df.index))\n",
    "\n",
    "print(len(train_df.index)+len(validation_df.index)+len(test_df.index))"
   ]
  },
  {
   "cell_type": "code",
   "execution_count": null,
   "metadata": {},
   "outputs": [],
   "source": [
    "class Rescale(object):\n",
    "    \"\"\"Rescale the image in a sample to a given size.\n",
    "    Args:\n",
    "        output_size (tuple or int): Desired output size.\n",
    "    \"\"\"\n",
    "\n",
    "    def __init__(self, output_size):\n",
    "        assert isinstance(output_size, (int))\n",
    "        self.output_size = output_size\n",
    "\n",
    "    def __call__(self, sample):\n",
    "        image, lesions = sample['image'], sample['lesions']\n",
    "        plt.figure()\n",
    "        plt.imshow(image)\n",
    "        for i in range(lesions.shape[0]):\n",
    "            plt.gca().add_patch(plt.Rectangle((lesions[i][0],lesions[i][1]),\n",
    "                                lesions[i][2]-lesions[i][0],\n",
    "                                lesions[i][3]-lesions[i][1],\n",
    "                                linewidth=1,edgecolor='r', fill=False))\n",
    "        # plt.scatter(lesions[:, 0], lesions[:, 1], s=10, marker='.', c='r')\n",
    "        plt.show()\n",
    "        print(image.shape)\n",
    "        h, w = image.shape[:2]\n",
    "        if isinstance(self.output_size, int):\n",
    "            if h > w:\n",
    "                new_h, new_w = self.output_size * h / w, self.output_size\n",
    "            else:\n",
    "                new_h, new_w = self.output_size, self.output_size * w / h\n",
    "        else:\n",
    "            new_h, new_w = self.output_size\n",
    "\n",
    "        new_h, new_w = int(new_h), int(new_w)\n",
    "\n",
    "        img = cv2.resize(image, (new_h, new_w))\n",
    "        \n",
    "        assert new_h==new_w, \"Width Size not same\"\n",
    "        # h and w are swapped for lesions because for images,\n",
    "        # x and y axes are axis 1 and 0 respectively\n",
    "\n",
    "        lesions = lesions * [new_w / w, new_h / h, new_w / w, new_h / h]\n",
    "        plt.figure()\n",
    "        plt.cla()\n",
    "        plt.imshow(img)\n",
    "        for i in range(lesions.shape[0]):\n",
    "            plt.gca().add_patch(plt.Rectangle((lesions[i][0],lesions[i][1]),\n",
    "                                lesions[i][2]-lesions[i][0],\n",
    "                                lesions[i][3]-lesions[i][1],\n",
    "                                linewidth=1,edgecolor='r', fill=False))\n",
    "        plt.show()\n",
    "        print (img.shape)\n",
    "        print (lesions)\n",
    "        return {'image': img, 'lesions': lesions}"
   ]
  },
  {
   "cell_type": "code",
   "execution_count": null,
   "metadata": {},
   "outputs": [],
   "source": [
    "class ToTensor(object):\n",
    "    def __call__(self, sample):\n",
    "        image, lesions = sample['image'], sample['lesions']\n",
    "\n",
    "        # swap color axis because\n",
    "        # numpy image: H x W x C\n",
    "        # torch image: C X H X W\n",
    "        image = image.transpose((2, 0, 1))\n",
    "        return {'image': torch.from_numpy(image),\n",
    "                'lesions': torch.from_numpy(lesions)}"
   ]
  },
  {
   "cell_type": "code",
   "execution_count": null,
   "metadata": {},
   "outputs": [],
   "source": [
    "img_transform = transforms.Compose([\n",
    "    Rescale(512),\n",
    "#    transforms.ToTensor(),\n",
    "])\n",
    "\n",
    "\n",
    "# dataset_type : 1 for train, 2 for validation, 3 for test\n",
    "class ImageDataset(dataset.Dataset):\n",
    "    def __init__ (self, root_dir, dataset_type, csv_file=csv_path, transform=img_transform):\n",
    "        self.root_dir = root_dir\n",
    "        self.csv_path = csv_path\n",
    "        self.df = pd.read_csv(csv_path)[df['Train_Val_Test']==dataset_type]\n",
    "        self.imf_transform = img_transform\n",
    "    def __len__(self):\n",
    "        return len(self.df.index)\n",
    "    def __getitem__(self, idx):\n",
    "        # read file\n",
    "        file_name = os.path.join(self.root_dir, self.df.iloc[idx]['File_name'])        \n",
    "        image = cv2.imread(file_name)\n",
    "        \n",
    "        # print(image.shape)\n",
    "        print (idx)\n",
    "#        assert image.shape==(512, 512, 3), \"Input size does not match\"\n",
    "        # show image\n",
    "#         plt.figure()\n",
    "#         plt.imshow(image)\n",
    "#         plt.show()\n",
    "        # print(self.df.iloc[idx]['File_name'])\n",
    "        #find all boudning boxes\n",
    "        lesions = []\n",
    "        new_df = self.df[self.df['File_name']==self.df.iloc[idx]['File_name']]\n",
    "        for i in range(len(new_df.index)):\n",
    "            coordinates_str = (re.split(',',new_df.iloc[i]['Bounding_boxes']))\n",
    "            coordinates = [ float(x) for x in coordinates_str]\n",
    "            # print (coordinates)\n",
    "            lesions.append(coordinates)\n",
    "        lesions = np.asarray(lesions)\n",
    "        #print (lesions)\n",
    "        #print (lesions.shape)\n",
    "        sample = {'image':image, 'lesions':lesions}\n",
    "        img_transform(sample)\n",
    "        \n",
    "        return sample"
   ]
  },
  {
   "cell_type": "code",
   "execution_count": null,
   "metadata": {},
   "outputs": [],
   "source": [
    "train_dataset = ImageDataset(root_dir = Image_slices_dir, dataset_type=1)\n",
    "validation_dataset = ImageDataset(root_dir = Image_slices_dir, dataset_type=2)\n",
    "test_dataset = ImageDataset(root_dir = Image_slices_dir, dataset_type=3)\n",
    "\n",
    "print(len(train_dataset))\n",
    "print(len(validation_dataset))\n",
    "print(len(test_dataset))"
   ]
  },
  {
   "cell_type": "code",
   "execution_count": null,
   "metadata": {},
   "outputs": [],
   "source": [
    "print (type(train_dataset[28][\"image\"]))\n",
    "print (type(train_dataset[28][\"lesions\"]))\n",
    "# train_dataset[54]\n",
    "# for i in range(0, len(train_dataset)):\n",
    "#     train_dataset[i]\n",
    "    \n"
   ]
  },
  {
   "cell_type": "code",
   "execution_count": null,
   "metadata": {},
   "outputs": [],
   "source": [
    "for i in range(0, len(validation_dataset)):\n",
    "    validation_dataset[i]"
   ]
  },
  {
   "cell_type": "code",
   "execution_count": null,
   "metadata": {},
   "outputs": [],
   "source": [
    "for i in range(0, len(test_dataset)):\n",
    "    test_dataset[i]"
   ]
  }
 ],
 "metadata": {
  "kernelspec": {
   "display_name": "Python 3",
   "language": "python",
   "name": "python3"
  },
  "language_info": {
   "codemirror_mode": {
    "name": "ipython",
    "version": 3
   },
   "file_extension": ".py",
   "mimetype": "text/x-python",
   "name": "python",
   "nbconvert_exporter": "python",
   "pygments_lexer": "ipython3",
   "version": "3.5.2"
  }
 },
 "nbformat": 4,
 "nbformat_minor": 2
}
