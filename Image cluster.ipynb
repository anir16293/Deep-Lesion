{
 "cells": [
  {
   "cell_type": "code",
   "execution_count": null,
   "metadata": {},
   "outputs": [],
   "source": [
    "import numpy as np\n",
    "import torch\n",
    "import torchvision.models as models\n",
    "from sklearn.cluster import KMeans\n",
    "import matplotlib.pyplot as plt\n",
    "import os\n",
    "from DataLoader import ImageDataset\n",
    "from torch.utils.data import DataLoader\n",
    "import pickle\n"
   ]
  },
  {
   "cell_type": "code",
   "execution_count": null,
   "metadata": {},
   "outputs": [],
   "source": [
    "csv_path = \"./DL_info.csv\"\n",
    "Image_slices_dir = \"/home/parv/Dropbox/Final_Images_2/\""
   ]
  },
  {
   "cell_type": "code",
   "execution_count": null,
   "metadata": {},
   "outputs": [],
   "source": [
    "vgg16 = models.vgg16(pretrained=True).features.cuda()\n",
    "print (vgg16)"
   ]
  },
  {
   "cell_type": "code",
   "execution_count": null,
   "metadata": {},
   "outputs": [],
   "source": [
    "train_dataset = ImageDataset(root_dir = Image_slices_dir, dataset_type = 1)\n",
    "#print('Dataset length: ' + str(len(new_dataset)))\n",
    "\n",
    "dataloader = DataLoader(dataset = train_dataset, batch_size = 5)\n",
    "print (len(dataloader))"
   ]
  },
  {
   "cell_type": "code",
   "execution_count": null,
   "metadata": {},
   "outputs": [],
   "source": [
    "curr_features = []\n",
    "filenames = []\n",
    "batch_no = 0\n",
    "for batch in dataloader:\n",
    "    out = list(vgg16(batch['image'].cuda()).view(-1, 512*16*16).cpu().detach().numpy())\n",
    "    # print (out)\n",
    "    curr_features.extend(out)\n",
    "    # print (batch['Filename'])\n",
    "    filenames.extend(batch['Filename'])\n",
    "    batch_no+=1\n",
    "    print (batch_no)\n",
    "#     if batch_no==10:\n",
    "#         break"
   ]
  },
  {
   "cell_type": "code",
   "execution_count": null,
   "metadata": {},
   "outputs": [],
   "source": [
    "cluster_function = KMeans(n_clusters= 8)\n",
    "assigned_clusters = cluster_function.fit_predict(curr_features)"
   ]
  },
  {
   "cell_type": "code",
   "execution_count": null,
   "metadata": {},
   "outputs": [],
   "source": [
    "#pickle.dump(cluster_function,open('./cluster_function.p','wb'))\n",
    "#pickle.dump(assigned_clusters, open('./assigned_clusters.p','wb'))\n",
    "pickle.dump(filenames, open('./filenames.p','wb'))\n",
    "pickle.dump(curr_features, open('./curr_features', 'wb'))"
   ]
  },
  {
   "cell_type": "code",
   "execution_count": null,
   "metadata": {},
   "outputs": [],
   "source": [
    "assigned_clusters"
   ]
  },
  {
   "cell_type": "code",
   "execution_count": null,
   "metadata": {},
   "outputs": [],
   "source": [
    "len (filenames)"
   ]
  },
  {
   "cell_type": "code",
   "execution_count": null,
   "metadata": {},
   "outputs": [],
   "source": [
    "assigned_clusters_2 = pickle.load(open('./assigned_clusters.p','rb'))"
   ]
  },
  {
   "cell_type": "code",
   "execution_count": null,
   "metadata": {},
   "outputs": [],
   "source": [
    "assigned_clusters_2"
   ]
  },
  {
   "cell_type": "code",
   "execution_count": null,
   "metadata": {},
   "outputs": [],
   "source": []
  }
 ],
 "metadata": {
  "kernelspec": {
   "display_name": "Python 3",
   "language": "python",
   "name": "python3"
  },
  "language_info": {
   "codemirror_mode": {
    "name": "ipython",
    "version": 3
   },
   "file_extension": ".py",
   "mimetype": "text/x-python",
   "name": "python",
   "nbconvert_exporter": "python",
   "pygments_lexer": "ipython3",
   "version": "3.5.2"
  }
 },
 "nbformat": 4,
 "nbformat_minor": 2
}
