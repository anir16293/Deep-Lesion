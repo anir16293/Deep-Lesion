{
 "cells": [
  {
   "cell_type": "code",
   "execution_count": 1,
   "metadata": {},
   "outputs": [],
   "source": [
    "##########\n",
    "# This script is used to separate out the dataset into different folders\n",
    "##########\n",
    "\n",
    "import torchvision.models as models\n",
    "\n",
    "import os\n",
    "\n",
    "import torch\n",
    "import torchvision\n",
    "from torch import nn\n",
    "from torch.autograd import Variable\n",
    "from torch.utils.data import DataLoader\n",
    "from torchvision import transforms\n",
    "from torchvision.datasets import FashionMNIST\n",
    "import matplotlib.pyplot as plt\n",
    "import numpy as np\n",
    "import torch.nn.functional as F\n",
    "import pandas as pd\n",
    "import torch.utils.data.dataset as dataset\n",
    "import re\n",
    "import matplotlib.patches as patches\n",
    "import shutil"
   ]
  },
  {
   "cell_type": "code",
   "execution_count": 35,
   "metadata": {},
   "outputs": [
    {
     "name": "stdout",
     "output_type": "stream",
     "text": [
      "{1: {'jpeg': '/home/weilunhuang/course/DL/project/Data/class1/JPEGImages', 'annotation': '/home/weilunhuang/course/DL/project/Data/class1/Annotations', 'imagesets': '/home/weilunhuang/course/DL/project/Data/class1/ImageSets/Main'}, 2: {'jpeg': '/home/weilunhuang/course/DL/project/Data/class2/JPEGImages', 'annotation': '/home/weilunhuang/course/DL/project/Data/class2/Annotations', 'imagesets': '/home/weilunhuang/course/DL/project/Data/class2/ImageSets/Main'}, 3: {'jpeg': '/home/weilunhuang/course/DL/project/Data/class3/JPEGImages', 'annotation': '/home/weilunhuang/course/DL/project/Data/class3/Annotations', 'imagesets': '/home/weilunhuang/course/DL/project/Data/class3/ImageSets/Main'}, 4: {'jpeg': '/home/weilunhuang/course/DL/project/Data/class4/JPEGImages', 'annotation': '/home/weilunhuang/course/DL/project/Data/class4/Annotations', 'imagesets': '/home/weilunhuang/course/DL/project/Data/class4/ImageSets/Main'}, 5: {'jpeg': '/home/weilunhuang/course/DL/project/Data/class5/JPEGImages', 'annotation': '/home/weilunhuang/course/DL/project/Data/class5/Annotations', 'imagesets': '/home/weilunhuang/course/DL/project/Data/class5/ImageSets/Main'}, 6: {'jpeg': '/home/weilunhuang/course/DL/project/Data/class6/JPEGImages', 'annotation': '/home/weilunhuang/course/DL/project/Data/class6/Annotations', 'imagesets': '/home/weilunhuang/course/DL/project/Data/class6/ImageSets/Main'}, 7: {'jpeg': '/home/weilunhuang/course/DL/project/Data/class7/JPEGImages', 'annotation': '/home/weilunhuang/course/DL/project/Data/class7/Annotations', 'imagesets': '/home/weilunhuang/course/DL/project/Data/class7/ImageSets/Main'}, 8: {'jpeg': '/home/weilunhuang/course/DL/project/Data/class8/JPEGImages', 'annotation': '/home/weilunhuang/course/DL/project/Data/class8/Annotations', 'imagesets': '/home/weilunhuang/course/DL/project/Data/class8/ImageSets/Main'}}\n"
     ]
    }
   ],
   "source": [
    "##### For all paths\n",
    "csv_path = \"./DL_info.csv\"\n",
    "Image_slices_dir = \"/home/weilunhuang/course/DL/project/faster-rcnn-pytorch/data/JPEGImages\"\n",
    "Anno_slices_dir = \"/home/weilunhuang/course/DL/project/faster-rcnn-pytorch/data/Annotations\"\n",
    "ImageSet_slices_dir = \"/home/weilunhuang/course/DL/project/faster-rcnn-pytorch/data/ImageSets/Main\"\n",
    "\n",
    "root_dir=\"/home/weilunhuang/course/DL/project/Data\"\n",
    "\n",
    "#create dict for 8 classes\n",
    "dest_dir={};\n",
    "for i in range(1,9):\n",
    "    sub_path=\"/class\"+str(i);\n",
    "    dest_dir[i]={};\n",
    "    #3 folders for JPEG, Annotations, ImageSets \n",
    "    dest_dir[i]['jpeg']=root_dir+sub_path+'/JPEGImages';\n",
    "    dest_dir[i]['annotation']=root_dir+sub_path+'/Annotations';\n",
    "    dest_dir[i]['imagesets']=root_dir+sub_path+'/ImageSets/Main';\n",
    "print(dest_dir)\n",
    "    \n",
    "        "
   ]
  },
  {
   "cell_type": "code",
   "execution_count": 36,
   "metadata": {},
   "outputs": [
    {
     "name": "stdout",
     "output_type": "stream",
     "text": [
      "total len of test dataset\n",
      "4927\n",
      "108\n",
      "1173\n",
      "864\n",
      "700\n",
      "1100\n",
      "234\n",
      "339\n",
      "409\n",
      "True\n"
     ]
    },
    {
     "name": "stderr",
     "output_type": "stream",
     "text": [
      "/home/weilunhuang/miniconda2/envs/dl/lib/python3.7/site-packages/ipykernel_launcher.py:15: UserWarning: Boolean Series key will be reindexed to match DataFrame index.\n",
      "  from ipykernel import kernelapp as app\n"
     ]
    }
   ],
   "source": [
    "#### Optional, remove it later, put the same into dataset class\n",
    "df = pd.read_csv(csv_path)          # The DL_info.csv file path\n",
    "\n",
    "\n",
    "\n",
    "test_df = df[df['Train_Val_Test']==3];\n",
    "print(\"total len of test dataset\")\n",
    "print(len(test_df.index))\n",
    "\n",
    "\n",
    "total_len=0;\n",
    "df_dic={};\n",
    "\n",
    "for i in range(1,9):\n",
    "    df_dic[i]=test_df[df['Coarse_lesion_type']==i];\n",
    "    print(len(df_dic[i].index));\n",
    "    total_len+=len(df_dic[i].index);\n",
    "print(total_len==len(test_df.index));\n"
   ]
  },
  {
   "cell_type": "code",
   "execution_count": 41,
   "metadata": {},
   "outputs": [
    {
     "name": "stdout",
     "output_type": "stream",
     "text": [
      "/home/weilunhuang/course/DL/project/faster-rcnn-pytorch/data/Annotations/000193_01_02_469/.xml\n"
     ]
    }
   ],
   "source": [
    "file_name = os.path.join(Anno_slices_dir, df_dic[1].iloc[0]['File_name'])\n",
    "file_name,_=os.path.splitext(file_name)\n",
    "file_name=file_name+'.xml'\n",
    "print(file_name)\n",
    "# shutil.copy(file_name, dest_dir[1]['jpeg'])"
   ]
  },
  {
   "cell_type": "code",
   "execution_count": 45,
   "metadata": {},
   "outputs": [
    {
     "name": "stdout",
     "output_type": "stream",
     "text": [
      "/home/weilunhuang/course/DL/project/faster-rcnn-pytorch/data/JPEGImages/000193_01_02_469.png\n",
      "/home/weilunhuang/course/DL/project/faster-rcnn-pytorch/data/Annotations/000193_01_02_469.xml\n",
      "/home/weilunhuang/course/DL/project/faster-rcnn-pytorch/data/JPEGImages/000039_01_01_067.png\n",
      "/home/weilunhuang/course/DL/project/faster-rcnn-pytorch/data/Annotations/000039_01_01_067.xml\n",
      "/home/weilunhuang/course/DL/project/faster-rcnn-pytorch/data/JPEGImages/000001_01_01_109.png\n",
      "/home/weilunhuang/course/DL/project/faster-rcnn-pytorch/data/Annotations/000001_01_01_109.xml\n",
      "/home/weilunhuang/course/DL/project/faster-rcnn-pytorch/data/JPEGImages/000016_01_01_008.png\n",
      "/home/weilunhuang/course/DL/project/faster-rcnn-pytorch/data/Annotations/000016_01_01_008.xml\n",
      "/home/weilunhuang/course/DL/project/faster-rcnn-pytorch/data/JPEGImages/000030_01_01_223.png\n",
      "/home/weilunhuang/course/DL/project/faster-rcnn-pytorch/data/Annotations/000030_01_01_223.xml\n",
      "/home/weilunhuang/course/DL/project/faster-rcnn-pytorch/data/JPEGImages/000016_01_01_030.png\n",
      "/home/weilunhuang/course/DL/project/faster-rcnn-pytorch/data/Annotations/000016_01_01_030.xml\n",
      "/home/weilunhuang/course/DL/project/faster-rcnn-pytorch/data/JPEGImages/000034_01_01_025.png\n",
      "/home/weilunhuang/course/DL/project/faster-rcnn-pytorch/data/Annotations/000034_01_01_025.xml\n",
      "/home/weilunhuang/course/DL/project/faster-rcnn-pytorch/data/JPEGImages/000046_03_02_098.png\n",
      "/home/weilunhuang/course/DL/project/faster-rcnn-pytorch/data/Annotations/000046_03_02_098.xml\n"
     ]
    }
   ],
   "source": [
    "#separate images and annotations\n",
    "for i in range(1,9):\n",
    "    for j in range(len(df_dic[i].index)):\n",
    "        if j>0:\n",
    "            break;\n",
    "        #jpeg\n",
    "        file_name = os.path.join(Image_slices_dir, df_dic[i].iloc[j]['File_name'])        \n",
    "        print (file_name)\n",
    "        shutil.copy(file_name, dest_dir[i]['jpeg'])\n",
    "        \n",
    "        #xml\n",
    "        file_name = os.path.join(Anno_slices_dir, df_dic[i].iloc[j]['File_name'])\n",
    "        file_name,_=os.path.splitext(file_name)\n",
    "        file_name=file_name+'.xml'\n",
    "        print(file_name);\n",
    "        shutil.copy(file_name, dest_dir[i]['annotation'])\n",
    "\n"
   ]
  },
  {
   "cell_type": "code",
   "execution_count": 49,
   "metadata": {},
   "outputs": [],
   "source": [
    "#imagesets, for test dataset\n",
    "for i in range(1,9):\n",
    "    if i>1:\n",
    "        break;\n",
    "    path=dest_dir[i]['imagesets']+'/test.txt'\n",
    "    file = open(path,\"w\") ;\n",
    "    for j in range(len(df_dic[i].index)):\n",
    "        idx=df_dic[i].iloc[j]['File_name'];\n",
    "        idx,_=os.path.splitext(idx)\n",
    "        file.write(idx+'\\n');\n",
    "    file.close();\n"
   ]
  },
  {
   "cell_type": "code",
   "execution_count": 48,
   "metadata": {},
   "outputs": [
    {
     "name": "stdout",
     "output_type": "stream",
     "text": [
      "000193_01_02_469\n"
     ]
    }
   ],
   "source": [
    "file_name,_=os.path.splitext(df_dic[1].iloc[0]['File_name'])\n",
    "print(file_name)"
   ]
  },
  {
   "cell_type": "code",
   "execution_count": null,
   "metadata": {},
   "outputs": [],
   "source": []
  }
 ],
 "metadata": {
  "kernelspec": {
   "display_name": "Python 3",
   "language": "python",
   "name": "python3"
  },
  "language_info": {
   "codemirror_mode": {
    "name": "ipython",
    "version": 3
   },
   "file_extension": ".py",
   "mimetype": "text/x-python",
   "name": "python",
   "nbconvert_exporter": "python",
   "pygments_lexer": "ipython3",
   "version": "3.7.3"
  }
 },
 "nbformat": 4,
 "nbformat_minor": 2
}
