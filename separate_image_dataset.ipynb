{
 "cells": [
  {
   "cell_type": "code",
   "execution_count": 10,
   "metadata": {},
   "outputs": [],
   "source": [
    "##########\n",
    "# This script is used to separate out the dataset into different folders\n",
    "##########\n",
    "\n",
    "import torchvision.models as models\n",
    "\n",
    "import os\n",
    "\n",
    "import torch\n",
    "import torchvision\n",
    "from torch import nn\n",
    "from torch.autograd import Variable\n",
    "from torch.utils.data import DataLoader\n",
    "from torchvision import transforms\n",
    "from torchvision.datasets import FashionMNIST\n",
    "import matplotlib.pyplot as plt\n",
    "import numpy as np\n",
    "import torch.nn.functional as F\n",
    "import pandas as pd\n",
    "import torch.utils.data.dataset as dataset\n",
    "import cv2\n",
    "import re\n",
    "import matplotlib.patches as patches\n",
    "import shutil"
   ]
  },
  {
   "cell_type": "code",
   "execution_count": 19,
   "metadata": {},
   "outputs": [],
   "source": [
    "##### For all paths\n",
    "csv_path = \"./DL_info.csv\"\n",
    "Image_slices_dir = \"/home/parv/DL/DL Project/DeepLearningProject/deeplesion/JPEGImages\"\n",
    "train_dest = \"/home/parv/DL/DL Project/DeepLearningProject/deeplesion/Separated_images/Train\"\n",
    "test_dest = \"/home/parv/DL/DL Project/DeepLearningProject/deeplesion/Separated_images/Test\"\n",
    "validation_dest = \"/home/parv/DL/DL Project/DeepLearningProject/deeplesion/Separated_images/Validation\""
   ]
  },
  {
   "cell_type": "code",
   "execution_count": 20,
   "metadata": {},
   "outputs": [
    {
     "name": "stdout",
     "output_type": "stream",
     "text": [
      "22919\n",
      "4889\n",
      "4927\n",
      "32735\n"
     ]
    }
   ],
   "source": [
    "#### Optional, remove it later, put the same into dataset class\n",
    "df = pd.read_csv(csv_path)          # The DL_info.csv file path\n",
    "# print(df)\n",
    "train_df = df[df['Train_Val_Test']==1]\n",
    "validation_df = df[df['Train_Val_Test']==2]\n",
    "test_df = df[df['Train_Val_Test']==3]\n",
    "\n",
    "print(len(train_df.index))\n",
    "print(len(validation_df.index))\n",
    "print(len(test_df.index))\n",
    "\n",
    "print(len(train_df.index)+len(validation_df.index)+len(test_df.index))"
   ]
  },
  {
   "cell_type": "code",
   "execution_count": 21,
   "metadata": {},
   "outputs": [
    {
     "name": "stdout",
     "output_type": "stream",
     "text": [
      "/home/parv/DL/DL Project/DeepLearningProject/deeplesion/JPEGImages/000003_01_01_016.png\n"
     ]
    },
    {
     "data": {
      "text/plain": [
       "'/home/parv/DL/DL Project/DeepLearningProject/deeplesion/Separated_images/Train/000003_01_01_016.png'"
      ]
     },
     "execution_count": 21,
     "metadata": {},
     "output_type": "execute_result"
    }
   ],
   "source": [
    "file_name = os.path.join(Image_slices_dir, train_df.iloc[0]['File_name'])        \n",
    "print (file_name)\n",
    "# image = cv2.imread(file_name)\n",
    "# plt.figure()\n",
    "# plt.imshow(image)\n",
    "# plt.show()\n",
    "shutil.copy(file_name, train_dest)"
   ]
  },
  {
   "cell_type": "code",
   "execution_count": 23,
   "metadata": {},
   "outputs": [],
   "source": [
    "for i in range(len(train_df.index)):\n",
    "    file_name = os.path.join(Image_slices_dir, train_df.iloc[i]['File_name']) \n",
    "    shutil.copy(file_name, train_dest)"
   ]
  },
  {
   "cell_type": "code",
   "execution_count": 22,
   "metadata": {},
   "outputs": [],
   "source": [
    "for i in range(len(test_df.index)):\n",
    "    file_name = os.path.join(Image_slices_dir, test_df.iloc[i]['File_name']) \n",
    "    shutil.copy(file_name, test_dest)"
   ]
  },
  {
   "cell_type": "code",
   "execution_count": 24,
   "metadata": {},
   "outputs": [],
   "source": [
    "for i in range(len(validation_df.index)):\n",
    "    file_name = os.path.join(Image_slices_dir, validation_df.iloc[i]['File_name']) \n",
    "    shutil.copy(file_name, validation_dest)"
   ]
  }
 ],
 "metadata": {
  "kernelspec": {
   "display_name": "Python 3",
   "language": "python",
   "name": "python3"
  },
  "language_info": {
   "codemirror_mode": {
    "name": "ipython",
    "version": 3
   },
   "file_extension": ".py",
   "mimetype": "text/x-python",
   "name": "python",
   "nbconvert_exporter": "python",
   "pygments_lexer": "ipython3",
   "version": "3.5.2"
  }
 },
 "nbformat": 4,
 "nbformat_minor": 2
}
